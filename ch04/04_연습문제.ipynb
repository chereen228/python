{
 "metadata": {
  "language_info": {
   "codemirror_mode": {
    "name": "ipython",
    "version": 3
   },
   "file_extension": ".py",
   "mimetype": "text/x-python",
   "name": "python",
   "nbconvert_exporter": "python",
   "pygments_lexer": "ipython3",
   "version": "3.8.5"
  },
  "orig_nbformat": 2,
  "kernelspec": {
   "name": "python385jvsc74a57bd054daef0dc01e033c2e8f5f3c9e10ede1654dd5d0f042d7f1d072181b13567fe3",
   "display_name": "Python 3.8.5 64-bit ('base': conda)"
  }
 },
 "nbformat": 4,
 "nbformat_minor": 2,
 "cells": [
  {
   "source": [
    "## 1. 조건문"
   ],
   "cell_type": "markdown",
   "metadata": {}
  },
  {
   "source": [
    "### 1-1)"
   ],
   "cell_type": "markdown",
   "metadata": {}
  },
  {
   "cell_type": "code",
   "execution_count": 1,
   "metadata": {},
   "outputs": [
    {
     "output_type": "stream",
     "name": "stdout",
     "text": [
      "윤년이 아님\n"
     ]
    }
   ],
   "source": [
    "# 윤년 구분\n",
    "year = int(input('연도를 입력'))\n",
    "if year % 4 == 0 and year % 100 != 0:\n",
    "    print('윤년')\n",
    "elif year % 4 == 0 and year % 400 ==0:\n",
    "    print('윤년')\n",
    "else: \n",
    "    print('윤년이 아님')"
   ]
  },
  {
   "source": [
    "### 1-2)"
   ],
   "cell_type": "markdown",
   "metadata": {}
  },
  {
   "cell_type": "code",
   "execution_count": 2,
   "metadata": {},
   "outputs": [
    {
     "output_type": "stream",
     "name": "stdout",
     "text": [
      "25\n"
     ]
    }
   ],
   "source": [
    "# 만 나이 구하기\n",
    "from datetime import datetime\n",
    "\n",
    "today = datetime.today()\n",
    "today.year, today.month, today.day\n",
    "\n",
    "birth = datetime.strptime(\"19960228\", \"%Y%m%d\")\n",
    "birth.year, birth.month, birth.day\n",
    "\n",
    "if birth.month < today.month:\n",
    "    print(today.year - birth.year)\n",
    "if birth.month > today.month:\n",
    "    print(today.year - birth.year - 1)\n",
    "if birth.month == today.month and birth.day > today.day:\n",
    "    print(today.year - birth.year - 1)"
   ]
  },
  {
   "source": [
    "### 1-3)"
   ],
   "cell_type": "markdown",
   "metadata": {}
  },
  {
   "source": [
    "for a in range(1, 1001):\n",
    "    for b in range(1, 1001):\n",
    "        c = 1000 - a - b\n",
    "        \n",
    "if a*a + b*b == c*c and a + b > c:\n",
    "    print(a, b, c)"
   ],
   "cell_type": "code",
   "metadata": {},
   "execution_count": 3,
   "outputs": []
  },
  {
   "source": [
    "### 2-1)"
   ],
   "cell_type": "markdown",
   "metadata": {}
  },
  {
   "cell_type": "code",
   "execution_count": 4,
   "metadata": {},
   "outputs": [
    {
     "output_type": "stream",
     "name": "stdout",
     "text": [
      "    +\n   +++\n  +++++\n +++++++\n  +++++\n   +++\n    +\n"
     ]
    }
   ],
   "source": [
    "# 다이아몬드형태 별\n",
    "n = int(input('5 이상 9 이하 홀수 입력> '))\n",
    "\n",
    "for i in range(1, n+1, 2):\n",
    "    blank = ' ' * ((n-i)//2)\n",
    "    star = '+' * i\n",
    "    print(blank, star)\n",
    "for i in range(n-2, 0, -2):\n",
    "    blank = ' ' * ((n-i)//2)\n",
    "    star = '+' * i\n",
    "    print(blank, star)"
   ]
  },
  {
   "source": [
    "### 2-2)\n"
   ],
   "cell_type": "markdown",
   "metadata": {}
  },
  {
   "source": [
    "### 2-3)"
   ],
   "cell_type": "markdown",
   "metadata": {}
  },
  {
   "cell_type": "code",
   "execution_count": 5,
   "metadata": {},
   "outputs": [],
   "source": [
    "# 1 ~ 1000까지의 각 숫자의 개수 구하기\n",
    "\n",
    "for i in range(1, 1001):\n",
    "    a = i // 100\n",
    "    b = i % 100 // 10\n",
    "    c = i % 10\n",
    "    "
   ]
  },
  {
   "source": [
    "### 2-4)"
   ],
   "cell_type": "markdown",
   "metadata": {}
  },
  {
   "cell_type": "code",
   "execution_count": 6,
   "metadata": {},
   "outputs": [
    {
     "output_type": "error",
     "ename": "SyntaxError",
     "evalue": "unexpected EOF while parsing (<ipython-input-6-b64450c449ba>, line 6)",
     "traceback": [
      "\u001b[1;36m  File \u001b[1;32m\"<ipython-input-6-b64450c449ba>\"\u001b[1;36m, line \u001b[1;32m6\u001b[0m\n\u001b[1;33m    for i in range(1, num+1):\u001b[0m\n\u001b[1;37m                             ^\u001b[0m\n\u001b[1;31mSyntaxError\u001b[0m\u001b[1;31m:\u001b[0m unexpected EOF while parsing\n"
     ]
    }
   ],
   "source": [
    "# 자기 자신을 제외한 모든 양의 약수들의 합이 자기 자신이 되는 자연수를 완전수라 함.\n",
    "# 입력으로 자연수 N을 받고, 출력으로 10,000 이하의 모든 완전수를 출력\n",
    "\n",
    "num = int(input('자연수를 입력'))\n",
    "\n",
    "for i in range(1, num+1):"
   ]
  },
  {
   "source": [
    "### 2-5)"
   ],
   "cell_type": "markdown",
   "metadata": {}
  }
 ]
}