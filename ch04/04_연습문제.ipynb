{
 "metadata": {
  "language_info": {
   "codemirror_mode": {
    "name": "ipython",
    "version": 3
   },
   "file_extension": ".py",
   "mimetype": "text/x-python",
   "name": "python",
   "nbconvert_exporter": "python",
   "pygments_lexer": "ipython3",
   "version": "3.8.5"
  },
  "orig_nbformat": 2,
  "kernelspec": {
   "name": "python385jvsc74a57bd08c1eae21719a0790335dcb83aad72b63b602cfe5cdb2bda0f60bc11d4f154e4b",
   "display_name": "Python 3.8.5 64-bit ('base': conda)"
  }
 },
 "nbformat": 4,
 "nbformat_minor": 2,
 "cells": [
  {
   "source": [
    "## 1. 조건문"
   ],
   "cell_type": "markdown",
   "metadata": {}
  },
  {
   "source": [
    "### 1-1)"
   ],
   "cell_type": "markdown",
   "metadata": {}
  },
  {
   "cell_type": "code",
   "execution_count": 1,
   "metadata": {},
   "outputs": [
    {
     "output_type": "stream",
     "name": "stdout",
     "text": [
      "윤년이 아님\n"
     ]
    }
   ],
   "source": [
    "# 윤년 구분\n",
    "year = int(input('연도를 입력'))\n",
    "if year % 4 == 0 and year % 100 != 0:\n",
    "    print('윤년')\n",
    "elif year % 4 == 0 and year % 400 ==0:\n",
    "    print('윤년')\n",
    "else: \n",
    "    print('윤년이 아님')"
   ]
  },
  {
   "cell_type": "code",
   "execution_count": null,
   "metadata": {},
   "outputs": [],
   "source": [
    "# 풀이\n",
    "year = int(input('연도를 입력하세요.'))\n",
    "\n",
    "if year % 400 == 0:\n",
    "    print(f'{year} is leap year.')\n",
    "elif year % 100 == 0:\n",
    "    print(f'{year} is not leap year.')\n",
    "elif year % 4 == 0:\n",
    "    print(f'{year} is leap year.')\n",
    "else:\n",
    "    print(f'{year} is not leap year.')"
   ]
  },
  {
   "cell_type": "code",
   "execution_count": null,
   "metadata": {},
   "outputs": [],
   "source": [
    "if (year % 4 == 0 and year % 100 != 0) or year % 400 == 0:\n",
    "    print(f'{year} is leap year.')\n",
    "else:\n",
    "    print(f'{year} is not leap year.')"
   ]
  },
  {
   "source": [
    "### 1-2)"
   ],
   "cell_type": "markdown",
   "metadata": {}
  },
  {
   "cell_type": "code",
   "execution_count": 6,
   "metadata": {},
   "outputs": [
    {
     "output_type": "stream",
     "name": "stdout",
     "text": [
      "25\n"
     ]
    }
   ],
   "source": [
    "# 만 나이 구하기\n",
    "from datetime import datetime\n",
    "\n",
    "today = datetime.today()\n",
    "today.year, today.month, today.day\n",
    "\n",
    "birth = datetime.strptime(\"19960228\", \"%Y%m%d\")\n",
    "birth.year, birth.month, birth.day\n",
    "\n",
    "if birth.month < today.month:\n",
    "    print(today.year - birth.year)\n",
    "if birth.month > today.month:\n",
    "    print(today.year - birth.year - 1)\n",
    "if birth.month == today.month and birth.day > today.day:\n",
    "    print(today.year - birth.year - 1)"
   ]
  },
  {
   "cell_type": "code",
   "execution_count": 2,
   "metadata": {},
   "outputs": [
    {
     "output_type": "execute_result",
     "data": {
      "text/plain": [
       "(1996, 2, 28)"
      ]
     },
     "metadata": {},
     "execution_count": 2
    }
   ],
   "source": [
    "year, month, day = map(int, input('생일 입력').split())\n",
    "year, month, day"
   ]
  },
  {
   "cell_type": "code",
   "execution_count": 7,
   "metadata": {},
   "outputs": [
    {
     "output_type": "stream",
     "name": "stdout",
     "text": [
      "만 나이는 25 입니다.\n"
     ]
    }
   ],
   "source": [
    "# 풀이\n",
    "if month > today.month:\n",
    "    age = today.year - year - 1\n",
    "elif month < today.month:\n",
    "    age = today.year - year\n",
    "else:\n",
    "    if day > today.day:\n",
    "        age = today.year - year - 1\n",
    "    else:\n",
    "        age = today.year - year\n",
    "print(f'만 나이는 {age} 입니다.')"
   ]
  },
  {
   "source": [
    "### 1-3)"
   ],
   "cell_type": "markdown",
   "metadata": {}
  },
  {
   "source": [
    "for a in range(1, 1001):\n",
    "    for b in range(1, 1001):\n",
    "        c = 1000 - a - b\n",
    "        \n",
    "if a*a + b*b == c*c and a + b > c:\n",
    "    print(a, b, c)"
   ],
   "cell_type": "code",
   "metadata": {},
   "execution_count": 3,
   "outputs": []
  },
  {
   "cell_type": "code",
   "execution_count": 11,
   "metadata": {},
   "outputs": [
    {
     "output_type": "stream",
     "name": "stdout",
     "text": [
      "200, 375, 425\n"
     ]
    }
   ],
   "source": [
    "# 풀이\n",
    "for a in range(1, 333):\n",
    "    for b in range(a+1, 500):\n",
    "        c = 1000 - a - b\n",
    "        if c > (a+b):\n",
    "            continue\n",
    "        if c*c == a*a + b*b:\n",
    "            print(f'{a}, {b}, {c}')\n",
    "            break"
   ]
  },
  {
   "source": [
    "### 2-1)"
   ],
   "cell_type": "markdown",
   "metadata": {}
  },
  {
   "cell_type": "code",
   "execution_count": 4,
   "metadata": {},
   "outputs": [
    {
     "output_type": "stream",
     "name": "stdout",
     "text": [
      "    +\n   +++\n  +++++\n +++++++\n  +++++\n   +++\n    +\n"
     ]
    }
   ],
   "source": [
    "# 다이아몬드형태 별\n",
    "n = int(input('5 이상 9 이하 홀수 입력> '))\n",
    "\n",
    "for i in range(1, n+1, 2):\n",
    "    blank = ' ' * ((n-i)//2)\n",
    "    star = '+' * i\n",
    "    print(blank, star)\n",
    "for i in range(n-2, 0, -2):\n",
    "    blank = ' ' * ((n-i)//2)\n",
    "    star = '+' * i\n",
    "    print(blank, star)"
   ]
  },
  {
   "cell_type": "code",
   "execution_count": null,
   "metadata": {},
   "outputs": [],
   "source": [
    "# 풀이\n",
    "import math\n",
    "N = int(input('홀수 입력'))\n",
    "half = math.ceil(N/2)\n",
    "for i in range(1, half+1):\n",
    "    for k in range(half-i):\n",
    "        print(' ', sep='', end='')\n",
    "    for k in range(2*i-1):\n",
    "        print('+', sep='', end='')\n",
    "    print()\n",
    "for i in range(1, half):\n",
    "    for k in range(i):\n",
    "        print(' ', sep='', end='')\n",
    "    for k in range(2*(half-i)-1):\n",
    "        print('+', sep='', end='')\n",
    "    print()"
   ]
  },
  {
   "source": [
    "### 2-2)\n"
   ],
   "cell_type": "markdown",
   "metadata": {}
  },
  {
   "cell_type": "code",
   "execution_count": 12,
   "metadata": {},
   "outputs": [
    {
     "output_type": "stream",
     "name": "stdout",
     "text": [
      "29700\n"
     ]
    }
   ],
   "source": [
    "# 풀이\n",
    "total_second = 0\n",
    "for hour in range(24):\n",
    "    for min in range(60):\n",
    "        time = str(hour) + str(min)\n",
    "        if '3' in time:\n",
    "            total_second += 60\n",
    "print(total_second)"
   ]
  },
  {
   "source": [
    "### 2-3)"
   ],
   "cell_type": "markdown",
   "metadata": {}
  },
  {
   "cell_type": "code",
   "execution_count": 5,
   "metadata": {},
   "outputs": [],
   "source": [
    "# 1 ~ 1000까지의 각 숫자의 개수 구하기\n",
    "for i in range(1, 1001):\n",
    "    a = i // 100\n",
    "    b = (i // 10) % 10\n",
    "    c = i % 10"
   ]
  },
  {
   "cell_type": "code",
   "execution_count": 24,
   "metadata": {},
   "outputs": [
    {
     "output_type": "stream",
     "name": "stdout",
     "text": [
      "[192, 301, 300, 300, 300, 300, 300, 300, 300, 300]\n"
     ]
    }
   ],
   "source": [
    "# 풀이\n",
    "num_counts = [0,0,0,0,0,0,0,0,0,0]\n",
    "for i in range(1, 10):\n",
    "    num_counts[i] += 1\n",
    "for i in range(10, 100):\n",
    "    ten = i // 10\n",
    "    one = i % 10\n",
    "    num_counts[ten] += 1\n",
    "    num_counts[one] += 1\n",
    "for i in range(100, 1000):\n",
    "    hundred = i // 100\n",
    "    ten = (i // 10) % 10\n",
    "    one = i % 10\n",
    "    num_counts[hundred] += 1\n",
    "    num_counts[ten] += 1\n",
    "    num_counts[one] += 1\n",
    "num_counts[1] += 1\n",
    "num_counts[0] += 3\n",
    "print(num_counts)"
   ]
  },
  {
   "cell_type": "code",
   "execution_count": 25,
   "metadata": {},
   "outputs": [],
   "source": [
    "num_counts = [0,0,0,0,0,0,0,0,0,0]\n",
    "numbers = ''\n",
    "for i in range(1, 1001):\n",
    "    numbers += str(i)"
   ]
  },
  {
   "cell_type": "code",
   "execution_count": 14,
   "metadata": {},
   "outputs": [
    {
     "output_type": "execute_result",
     "data": {
      "text/plain": [
       "192"
      ]
     },
     "metadata": {},
     "execution_count": 14
    }
   ],
   "source": [
    "numbers.count('0')"
   ]
  },
  {
   "cell_type": "code",
   "execution_count": 16,
   "metadata": {},
   "outputs": [
    {
     "output_type": "stream",
     "name": "stdout",
     "text": [
      "[192, 301, 300, 300, 300, 300, 300, 300, 300, 300]\n"
     ]
    }
   ],
   "source": [
    "for i in range(10):\n",
    "    num_counts[i] = numbers.count(str(i))\n",
    "print(num_counts)"
   ]
  },
  {
   "source": [
    "### 2-4)"
   ],
   "cell_type": "markdown",
   "metadata": {}
  },
  {
   "cell_type": "code",
   "execution_count": 19,
   "metadata": {},
   "outputs": [
    {
     "output_type": "stream",
     "name": "stdout",
     "text": [
      "1\n2\n3\n4\n6\n12\n"
     ]
    }
   ],
   "source": [
    "# 약수 찾기\n",
    "num = 12\n",
    "for i in range(1, num+1):\n",
    "    if num % i ==0:\n",
    "        print(i)\n"
   ]
  },
  {
   "cell_type": "code",
   "execution_count": 20,
   "metadata": {},
   "outputs": [
    {
     "output_type": "stream",
     "name": "stdout",
     "text": [
      "16\n"
     ]
    }
   ],
   "source": [
    "# 자기 자신을 제외한 약수의 합\n",
    "sum = 0\n",
    "for i in range(1, num):\n",
    "    if num % i == 0:\n",
    "        sum += i\n",
    "print(sum)"
   ]
  },
  {
   "cell_type": "code",
   "execution_count": 22,
   "metadata": {},
   "outputs": [
    {
     "output_type": "stream",
     "name": "stdout",
     "text": [
      "6\n",
      "28\n",
      "496\n",
      "8128\n"
     ]
    }
   ],
   "source": [
    "# 풀이\n",
    "for num in range(2, 10001):\n",
    "    sum = 0\n",
    "    for i in range(1, num):\n",
    "        if num % i == 0:\n",
    "            sum += i\n",
    "    if sum == num:\n",
    "        print(num)"
   ]
  },
  {
   "source": [
    "### 2-5)"
   ],
   "cell_type": "markdown",
   "metadata": {}
  },
  {
   "cell_type": "code",
   "execution_count": 26,
   "metadata": {},
   "outputs": [
    {
     "output_type": "stream",
     "name": "stdout",
     "text": [
      "1에서 15 까지의 합의 제곱과 제곱의 합\n합의 제곱: 14400, 제곱의 합: 1240\n차이: 13160\n"
     ]
    }
   ],
   "source": [
    "# 제곱의 합, 합의 제곱\n",
    "num = int(input('양의 정수 입력'))\n",
    "square_of_sum, sum_of_square, sum = 0, 0, 0\n",
    "for i in range(1, num+1):\n",
    "    sum_of_square += i*i\n",
    "    square_of_sum += i\n",
    "print(f'1에서 {num} 까지의 합의 제곱과 제곱의 합')\n",
    "print(f'합의 제곱: {square_of_sum**2}, 제곱의 합: {sum_of_square}')\n",
    "print(f'차이: {square_of_sum**2 - sum_of_square}')"
   ]
  }
 ]
}