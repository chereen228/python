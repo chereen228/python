{
 "metadata": {
  "language_info": {
   "codemirror_mode": {
    "name": "ipython",
    "version": 3
   },
   "file_extension": ".py",
   "mimetype": "text/x-python",
   "name": "python",
   "nbconvert_exporter": "python",
   "pygments_lexer": "ipython3",
   "version": "3.8.5"
  },
  "orig_nbformat": 2,
  "kernelspec": {
   "name": "python385jvsc74a57bd08c1eae21719a0790335dcb83aad72b63b602cfe5cdb2bda0f60bc11d4f154e4b",
   "display_name": "Python 3.8.5 64-bit ('base': conda)"
  }
 },
 "nbformat": 4,
 "nbformat_minor": 2,
 "cells": [
  {
   "source": [
    "# 함수 연습문제"
   ],
   "cell_type": "markdown",
   "metadata": {}
  },
  {
   "source": [
    "#### 1.Palindrome"
   ],
   "cell_type": "markdown",
   "metadata": {}
  },
  {
   "cell_type": "code",
   "execution_count": 1,
   "metadata": {},
   "outputs": [],
   "source": [
    "# 두 세자리 수의 곱이 palindrome, 그 최대값\n",
    "def is_palindrome(s):\n",
    "    return s == s[::-1]"
   ]
  },
  {
   "cell_type": "code",
   "execution_count": 2,
   "metadata": {},
   "outputs": [
    {
     "output_type": "stream",
     "name": "stdout",
     "text": [
      "906609 913 993\n"
     ]
    }
   ],
   "source": [
    "max_num, max_i, max_k = 0, 0, 0  # 최대값 정의(0 이전이 최대값)\n",
    "for i in range(100, 1000):\n",
    "    for k in range(100, 1000):\n",
    "        if is_palindrome(str(i*k)):\n",
    "            if max_num < i * k:\n",
    "                max_num = i * k\n",
    "                max_i, max_k = i, k\n",
    "print(max_num, max_i, max_k)"
   ]
  },
  {
   "source": [
    "#### 2. 사칙연산"
   ],
   "cell_type": "markdown",
   "metadata": {}
  },
  {
   "cell_type": "code",
   "execution_count": 3,
   "metadata": {},
   "outputs": [],
   "source": [
    "def calc(x, y):\n",
    "    return x+y, x-y, x*y, x/y"
   ]
  },
  {
   "cell_type": "code",
   "execution_count": 4,
   "metadata": {},
   "outputs": [],
   "source": [
    "x, y = map(int, input('숫자 두개 입력').split())"
   ]
  },
  {
   "cell_type": "code",
   "execution_count": null,
   "metadata": {},
   "outputs": [],
   "source": [
    "a, s, m, d = calc(x, y)\n",
    "print()"
   ]
  }
 ]
}