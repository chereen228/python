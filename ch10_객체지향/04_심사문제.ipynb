{
 "metadata": {
  "language_info": {
   "codemirror_mode": {
    "name": "ipython",
    "version": 3
   },
   "file_extension": ".py",
   "mimetype": "text/x-python",
   "name": "python",
   "nbconvert_exporter": "python",
   "pygments_lexer": "ipython3",
   "version": "3.8.5"
  },
  "orig_nbformat": 2,
  "kernelspec": {
   "name": "python385jvsc74a57bd08c1eae21719a0790335dcb83aad72b63b602cfe5cdb2bda0f60bc11d4f154e4b",
   "display_name": "Python 3.8.5 64-bit ('base': conda)"
  }
 },
 "nbformat": 4,
 "nbformat_minor": 2,
 "cells": [
  {
   "source": [
    "### Unit 13 - 18"
   ],
   "cell_type": "markdown",
   "metadata": {}
  },
  {
   "cell_type": "code",
   "execution_count": 3,
   "metadata": {},
   "outputs": [
    {
     "output_type": "stream",
     "name": "stdout",
     "text": [
      "24000\n"
     ]
    }
   ],
   "source": [
    "# Unit 13\n",
    "price = int(input())\n",
    "coupon = input()\n",
    "\n",
    "if coupon == 'Cash3000':\n",
    "    price -= 3000\n",
    "if coupon == 'Cash5000':\n",
    "    price -= 5000\n",
    "print(price)"
   ]
  },
  {
   "cell_type": "code",
   "execution_count": 4,
   "metadata": {},
   "outputs": [
    {
     "output_type": "stream",
     "name": "stdout",
     "text": [
      "잘못된 점수\n"
     ]
    }
   ],
   "source": [
    "# Unit 14\n",
    "kor, eng, mat, sci = map(int, input().split())\n",
    "average = (kor+eng+mat+sci)/4\n",
    "\n",
    "if kor>100 or eng>100 or mat>100 or sci>100:\n",
    "    print('잘못된 점수')\n",
    "else:\n",
    "    if average >= 80:\n",
    "        print('합격')\n",
    "    if average < 80:\n",
    "        print('불합격')"
   ]
  },
  {
   "cell_type": "code",
   "execution_count": 7,
   "metadata": {},
   "outputs": [
    {
     "output_type": "stream",
     "name": "stdout",
     "text": [
      "8350\n"
     ]
    }
   ],
   "source": [
    "# Unit 15\n",
    "age = int(input())\n",
    "balance = 9000    # 교통카드 잔액\n",
    "\n",
    "if 7 <= age <= 12:\n",
    "    balance -= 650\n",
    "    print(balance)\n",
    "elif 13 <= age <= 18:\n",
    "    balance -= 1050\n",
    "    print(balance)\n",
    "else:\n",
    "    balance -= 1250\n",
    "    print(balance)"
   ]
  },
  {
   "cell_type": "code",
   "execution_count": 2,
   "metadata": {},
   "outputs": [],
   "source": [
    "# 객체 지향 활용\n",
    "\n",
    "class Tmoney():\n",
    "    def __init__(self):\n",
    "        print('Tmoney 카드를 개설하였습니다. 최초 잔액은 0원입니다.')\n",
    "        self.balance = 0\n",
    "\n",
    "    def charge(self, amount):\n",
    "        self.balance += amount\n",
    "\n",
    "    def pay(self, amount):\n",
    "        if self.balance >= amount:\n",
    "            self.balance -= amount\n",
    "            print(f'잔액은 {self.balance:,} 입니다.')\n",
    "        else:\n",
    "            print('잔액이 부족합니다.')"
   ]
  },
  {
   "cell_type": "code",
   "execution_count": 3,
   "metadata": {},
   "outputs": [
    {
     "output_type": "stream",
     "name": "stdout",
     "text": [
      "Tmoney 카드를 개설하였습니다. 최초 잔액은 0원입니다.\n잔액은 8,650 입니다.\n잔액은 7,300 입니다.\n잔액은 5,950 입니다.\n잔액은 4,600 입니다.\n잔액은 3,250 입니다.\n잔액은 1,900 입니다.\n잔액은 550 입니다.\n"
     ]
    }
   ],
   "source": [
    "tmon = Tmoney()\n",
    "tmon.charge(10000)\n",
    "while True:\n",
    "    tmon.pay(1350)\n",
    "    if tmon.balance < 1350:\n",
    "        break"
   ]
  },
  {
   "cell_type": "code",
   "execution_count": 6,
   "metadata": {},
   "outputs": [],
   "source": [
    "class Tmoney2():\n",
    "    def __init__(self, amount=0):\n",
    "        print(f'Tmoney 카드를 개설하였습니다. 최초 잔액은 {amount:,}원입니다.')\n",
    "        self.__balance = amount\n",
    "    \n",
    "    def charge(self, amount):\n",
    "        self.__balance += amount\n",
    "\n",
    "    def get_balance(self):\n",
    "        return self.__balance\n",
    "    \n",
    "    def pay(self, amount):\n",
    "        if self.__balance >= amount:\n",
    "            self.__balance -= amount\n",
    "            print(f'잔액은 {self.__balance:,}원 입니다.')\n",
    "        else:\n",
    "            print('잔액이 부족합니다.')"
   ]
  },
  {
   "cell_type": "code",
   "execution_count": 7,
   "metadata": {},
   "outputs": [
    {
     "output_type": "stream",
     "name": "stdout",
     "text": [
      "Tmoney 카드를 개설하였습니다. 최초 잔액은 10,000원입니다.\n잔액은 18,650원 입니다.\n잔액은 17,300원 입니다.\n잔액은 15,950원 입니다.\n잔액은 14,600원 입니다.\n잔액은 13,250원 입니다.\n잔액은 11,900원 입니다.\n잔액은 10,550원 입니다.\n잔액은 9,200원 입니다.\n잔액은 7,850원 입니다.\n잔액은 6,500원 입니다.\n잔액은 5,150원 입니다.\n잔액은 3,800원 입니다.\n잔액은 2,450원 입니다.\n잔액은 1,100원 입니다.\n"
     ]
    }
   ],
   "source": [
    "tmon = Tmoney2(10000)\n",
    "tmon.charge(10000)\n",
    "while True:\n",
    "    tmon.pay(1350)\n",
    "    if tmon.get_balance() < 1350:\n",
    "        break"
   ]
  },
  {
   "cell_type": "code",
   "execution_count": 8,
   "metadata": {},
   "outputs": [
    {
     "output_type": "stream",
     "name": "stdout",
     "text": [
      "7 * 1 = 7\n7 * 2 = 14\n7 * 3 = 21\n7 * 4 = 28\n7 * 5 = 35\n7 * 6 = 42\n7 * 7 = 49\n7 * 8 = 56\n7 * 9 = 63\n"
     ]
    }
   ],
   "source": [
    "# Unit 16\n",
    "num = int(input('정수 입력'))\n",
    "\n",
    "for i in range(1, 10):\n",
    "    print(f'{num} * {i} = {num*i}')"
   ]
  },
  {
   "cell_type": "code",
   "execution_count": 16,
   "metadata": {},
   "outputs": [
    {
     "output_type": "stream",
     "name": "stdout",
     "text": [
      "12150\n10800\n9450\n8100\n6750\n5400\n4050\n2700\n1350\n0\n"
     ]
    }
   ],
   "source": [
    "# Unit 17\n",
    "wallet = int(input())\n",
    "\n",
    "while wallet > 0:\n",
    "    wallet -= 1350\n",
    "    if wallet < 0:\n",
    "        break\n",
    "    else:\n",
    "        print(wallet)"
   ]
  },
  {
   "cell_type": "code",
   "execution_count": 1,
   "metadata": {
    "tags": []
   },
   "outputs": [
    {
     "output_type": "stream",
     "name": "stdout",
     "text": [
      "1 2 4 5 6 7 8 9 10 11 12 14 15 16 17 18 19 20 "
     ]
    }
   ],
   "source": [
    "# Unit 18\n",
    "start, stop = map(int, input().split())\n",
    "\n",
    "i = start\n",
    "\n",
    "while True:\n",
    "    if i > stop:\n",
    "        break\n",
    "    if i%10 == 3:\n",
    "        i += 1\n",
    "        continue\n",
    "    \n",
    "    print(i, end=' ')\n",
    "    i += 1"
   ]
  }
 ]
}