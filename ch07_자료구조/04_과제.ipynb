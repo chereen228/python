{
 "metadata": {
  "language_info": {
   "codemirror_mode": {
    "name": "ipython",
    "version": 3
   },
   "file_extension": ".py",
   "mimetype": "text/x-python",
   "name": "python",
   "nbconvert_exporter": "python",
   "pygments_lexer": "ipython3",
   "version": "3.8.5"
  },
  "orig_nbformat": 2,
  "kernelspec": {
   "name": "python385jvsc74a57bd08c1eae21719a0790335dcb83aad72b63b602cfe5cdb2bda0f60bc11d4f154e4b",
   "display_name": "Python 3.8.5 64-bit ('base': conda)"
  }
 },
 "nbformat": 4,
 "nbformat_minor": 2,
 "cells": [
  {
   "source": [
    "#### 1. 씨저 암호 "
   ],
   "cell_type": "markdown",
   "metadata": {}
  },
  {
   "cell_type": "code",
   "execution_count": 22,
   "metadata": {},
   "outputs": [],
   "source": [
    "# 풀이\n",
    "def encode(plain, n):\n",
    "    cipher = ''\n",
    "    for c in plain:\n",
    "        diff = ord(c) - ord('A') + n\n",
    "        if diff >= 26:\n",
    "            cipher += chr(ord('A') + diff % 26)\n",
    "        else:\n",
    "            cipher += chr(ord(c) + n)\n",
    "    return cipher"
   ]
  },
  {
   "cell_type": "code",
   "execution_count": 23,
   "metadata": {},
   "outputs": [],
   "source": [
    "def decode(cipher, n):\n",
    "    plain = ''\n",
    "    for c in cipher:\n",
    "        diff = ord(c) - ord('A') - n\n",
    "        if diff < 0:\n",
    "            plain += chr(ord('Z') + diff + 1)\n",
    "        else:\n",
    "            plain += chr(ord(c) - n)\n",
    "    return plain"
   ]
  },
  {
   "cell_type": "code",
   "execution_count": 24,
   "metadata": {},
   "outputs": [
    {
     "output_type": "execute_result",
     "data": {
      "text/plain": [
       "'ABCXYZ'"
      ]
     },
     "metadata": {},
     "execution_count": 24
    }
   ],
   "source": [
    "decode(encode('ABCXYZ', 3), 3)"
   ]
  },
  {
   "cell_type": "code",
   "execution_count": 27,
   "metadata": {},
   "outputs": [
    {
     "output_type": "stream",
     "name": "stdout",
     "text": [
      "입력값 qwerty, 5에 대한 암호는 VBJWYD 해독하면 QWERTY\n"
     ]
    }
   ],
   "source": [
    "word, n = input('String N 입력').split()\n",
    "cipher = encode(word.upper(), int(n))\n",
    "plain = decode(cipher, int(n))\n",
    "print(f'입력값 {word}, {n}에 대한 암호는 {cipher} 해독하면 {plain}')"
   ]
  },
  {
   "source": [
    "#### 2. Unit 24 심사문제 - 1"
   ],
   "cell_type": "markdown",
   "metadata": {}
  },
  {
   "cell_type": "code",
   "execution_count": 5,
   "metadata": {},
   "outputs": [
    {
     "output_type": "stream",
     "name": "stdout",
     "text": [
      "6\n"
     ]
    }
   ],
   "source": [
    "# 입력된 문자열에서 'the'의 개수를 출력하는 프로그램을 만드세요 ('the'만)\n",
    "the_string = input('입력').split()\n",
    "count = 0\n",
    "\n",
    "for i in the_string:\n",
    "    if (i.strip(',.') == 'the'):\n",
    "        count += 1\n",
    "print(count)"
   ]
  },
  {
   "cell_type": "code",
   "execution_count": 28,
   "metadata": {},
   "outputs": [
    {
     "output_type": "execute_result",
     "data": {
      "text/plain": [
       "\"the grown-ups' response, this time, was to advise me to lay aside my drawings of boa constrictors, whether from the inside or the outside, and devote myself instead to geography, history, arithmetic, and grammar. That is why, at the, age of six, I gave up what might have been a magnificent career as a painter. I had been disheartened by the failure of my Drawing Number One and my Drawing Number Two. Grown-ups never understand anything by themselves, and it is tiresome for children to be always and forever explaining things to the.\""
      ]
     },
     "metadata": {},
     "execution_count": 28
    }
   ],
   "source": [
    "# 풀이\n",
    "text = input('입력')\n",
    "text"
   ]
  },
  {
   "cell_type": "code",
   "execution_count": 29,
   "metadata": {},
   "outputs": [
    {
     "output_type": "execute_result",
     "data": {
      "text/plain": [
       "'the grown-ups response this time was to advise me to lay aside my drawings of boa constrictors whether from the inside or the outside and devote myself instead to geography history arithmetic and grammar That is why at the age of six I gave up what might have been a magnificent career as a painter I had been disheartened by the failure of my Drawing Number One and my Drawing Number Two Grown-ups never understand anything by themselves and it is tiresome for children to be always and forever explaining things to the'"
      ]
     },
     "metadata": {},
     "execution_count": 29
    }
   ],
   "source": [
    "import re\n",
    "text = re.sub('[\\'.,\\n]', '', text)\n",
    "text"
   ]
  },
  {
   "cell_type": "code",
   "execution_count": 30,
   "metadata": {},
   "outputs": [
    {
     "output_type": "execute_result",
     "data": {
      "text/plain": [
       "'the grownups response this time was to advise me to lay aside my drawings of boa constrictors whether from the inside or the outside and devote myself instead to geography history arithmetic and grammar That is why at the age of six I gave up what might have been a magnificent career as a painter I had been disheartened by the failure of my Drawing Number One and my Drawing Number Two Grownups never understand anything by themselves and it is tiresome for children to be always and forever explaining things to the'"
      ]
     },
     "metadata": {},
     "execution_count": 30
    }
   ],
   "source": [
    "text = re.sub('[^A-Za-z ]', '', text)\n",
    "text"
   ]
  },
  {
   "cell_type": "code",
   "execution_count": 31,
   "metadata": {},
   "outputs": [
    {
     "output_type": "execute_result",
     "data": {
      "text/plain": [
       "'!\"#$%&\\'()*+,-./:;<=>?@[\\\\]^_`{|}~'"
      ]
     },
     "metadata": {},
     "execution_count": 31
    }
   ],
   "source": [
    "from string import punctuation\n",
    "punctuation"
   ]
  },
  {
   "cell_type": "code",
   "execution_count": 10,
   "metadata": {},
   "outputs": [
    {
     "output_type": "execute_result",
     "data": {
      "text/plain": [
       "'thegrownupsresponsethistimewastoadvisemetolayasidemydrawingsofboaconstrictorswhetherfromtheinsideortheoutsideanddevotemyselfinsteadtogeographyhistoryarithmeticandgrammarThatiswhyattheageofsixIgaveupwhatmighthavebeenamagnificentcareerasapainterIhadbeendisheartenedbythefailureofmyDrawingNumberOneandmyDrawingNumberTwoGrownupsneverunderstandanythingbythemselvesanditistiresomeforchildrentobealwaysandforeverexplainingthingstothe'"
      ]
     },
     "metadata": {},
     "execution_count": 10
    }
   ],
   "source": [
    "text = re.sub('[^A-Za-z]', '', text)\n",
    "text"
   ]
  },
  {
   "cell_type": "code",
   "execution_count": 32,
   "metadata": {},
   "outputs": [
    {
     "output_type": "execute_result",
     "data": {
      "text/plain": [
       "6"
      ]
     },
     "metadata": {},
     "execution_count": 32
    }
   ],
   "source": [
    "text_list = text.lower().strip().split()\n",
    "count = 0\n",
    "for word in text_list:\n",
    "    if word == 'the':\n",
    "        count += 1\n",
    "count"
   ]
  },
  {
   "source": [
    "#### 3. Unit 24 심사문제 - 2"
   ],
   "cell_type": "markdown",
   "metadata": {}
  },
  {
   "cell_type": "code",
   "execution_count": 12,
   "metadata": {},
   "outputs": [
    {
     "output_type": "execute_result",
     "data": {
      "text/plain": [
       "[51900, 83000, 158000, 367500, 250000, 59200, 128500, 1304000]"
      ]
     },
     "metadata": {},
     "execution_count": 12
    }
   ],
   "source": [
    "price = list(map(int, input('입력').split(';')))\n",
    "price"
   ]
  },
  {
   "cell_type": "code",
   "execution_count": 13,
   "metadata": {},
   "outputs": [
    {
     "output_type": "execute_result",
     "data": {
      "text/plain": [
       "[1304000, 367500, 250000, 158000, 128500, 83000, 59200, 51900]"
      ]
     },
     "metadata": {},
     "execution_count": 13
    }
   ],
   "source": [
    "sorted_price = sorted(price, reverse=True)\n",
    "sorted_price"
   ]
  },
  {
   "cell_type": "code",
   "execution_count": 15,
   "metadata": {},
   "outputs": [
    {
     "output_type": "stream",
     "name": "stdout",
     "text": [
      "1,304,000\n  367,500\n  250,000\n  158,000\n  128,500\n   83,000\n   59,200\n   51,900\n"
     ]
    }
   ],
   "source": [
    "for price in sorted_price:\n",
    "    print(f'{price:9,d}')"
   ]
  },
  {
   "source": [
    "#### 4. Unit 12 심사문제"
   ],
   "cell_type": "markdown",
   "metadata": {}
  },
  {
   "cell_type": "code",
   "execution_count": 57,
   "metadata": {},
   "outputs": [
    {
     "output_type": "execute_result",
     "data": {
      "text/plain": [
       "{'health': 575.6, 'health_regen': 1.7, 'mana': 338.8, 'mana_regen': 1.63}"
      ]
     },
     "metadata": {},
     "execution_count": 57
    }
   ],
   "source": [
    "# 0526 시도\n",
    "key = input('키 입력').split()\n",
    "value = map(float, input('값 입력').split())\n",
    "\n",
    "char = dict(zip(key, value))\n",
    "char"
   ]
  },
  {
   "cell_type": "code",
   "execution_count": 58,
   "metadata": {},
   "outputs": [
    {
     "output_type": "execute_result",
     "data": {
      "text/plain": [
       "{'health': 573.6,\n",
       " 'mana': 308.8,\n",
       " 'melee': 600.0,\n",
       " 'attack_speed': 0.625,\n",
       " 'magic_resistance': 35.7}"
      ]
     },
     "metadata": {},
     "execution_count": 58
    }
   ],
   "source": [
    "key2 = input('키 입력').split()\n",
    "value2 = map(float, input('값 입력').split())\n",
    "\n",
    "char2 = dict(zip(key2, value2))\n",
    "char2"
   ]
  },
  {
   "source": [
    "#### 5. Unit 25 심사문제"
   ],
   "cell_type": "markdown",
   "metadata": {}
  },
  {
   "cell_type": "code",
   "execution_count": 16,
   "metadata": {},
   "outputs": [
    {
     "output_type": "execute_result",
     "data": {
      "text/plain": [
       "{'alpha': 10, 'bravo': 20, 'charlie': 30, 'delta': 40}"
      ]
     },
     "metadata": {},
     "execution_count": 16
    }
   ],
   "source": [
    "keys = input('키 입력').split()\n",
    "values = map(int, input('값 입력').split())\n",
    "\n",
    "x = dict(zip(keys, values))\n",
    "x"
   ]
  },
  {
   "cell_type": "code",
   "execution_count": 17,
   "metadata": {},
   "outputs": [
    {
     "output_type": "execute_result",
     "data": {
      "text/plain": [
       "{'alpha': 10, 'bravo': 20, 'charlie': 30}"
      ]
     },
     "metadata": {},
     "execution_count": 17
    }
   ],
   "source": [
    "del x['delta']\n",
    "x"
   ]
  },
  {
   "cell_type": "code",
   "execution_count": 18,
   "metadata": {},
   "outputs": [
    {
     "output_type": "execute_result",
     "data": {
      "text/plain": [
       "{'alpha': 10, 'bravo': 20}"
      ]
     },
     "metadata": {},
     "execution_count": 18
    }
   ],
   "source": [
    "for key, value in x.items():\n",
    "    if value == 30:\n",
    "        break\n",
    "del x[key]\n",
    "x"
   ]
  },
  {
   "cell_type": "code",
   "execution_count": 33,
   "metadata": {},
   "outputs": [
    {
     "output_type": "execute_result",
     "data": {
      "text/plain": [
       "{'alpha': 30,\n",
       " 'bravo': 40,\n",
       " 'charlie': 50,\n",
       " 'delta': 60,\n",
       " 'echo': 70,\n",
       " 'foxtrot': 80,\n",
       " 'golf': 90}"
      ]
     },
     "metadata": {},
     "execution_count": 33
    }
   ],
   "source": [
    "keys2 = input('키 입력').split()\n",
    "values2 = map(int, input('값 입력').split())\n",
    "\n",
    "z = dict(zip(keys2, values2))\n",
    "z"
   ]
  },
  {
   "cell_type": "code",
   "execution_count": 34,
   "metadata": {},
   "outputs": [
    {
     "output_type": "execute_result",
     "data": {
      "text/plain": [
       "{'alpha': 30,\n",
       " 'bravo': 40,\n",
       " 'charlie': 50,\n",
       " 'echo': 70,\n",
       " 'foxtrot': 80,\n",
       " 'golf': 90}"
      ]
     },
     "metadata": {},
     "execution_count": 34
    }
   ],
   "source": [
    "del z['delta']\n",
    "z"
   ]
  },
  {
   "cell_type": "code",
   "execution_count": 35,
   "metadata": {},
   "outputs": [
    {
     "output_type": "execute_result",
     "data": {
      "text/plain": [
       "{'bravo': 40, 'charlie': 50, 'echo': 70, 'foxtrot': 80, 'golf': 90}"
      ]
     },
     "metadata": {},
     "execution_count": 35
    }
   ],
   "source": [
    "for key, value in z.items():\n",
    "    if value == 30:\n",
    "        break\n",
    "del z[key]\n",
    "z"
   ]
  }
 ]
}