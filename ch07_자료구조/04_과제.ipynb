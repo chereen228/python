{
 "metadata": {
  "language_info": {
   "codemirror_mode": {
    "name": "ipython",
    "version": 3
   },
   "file_extension": ".py",
   "mimetype": "text/x-python",
   "name": "python",
   "nbconvert_exporter": "python",
   "pygments_lexer": "ipython3",
   "version": "3.8.5"
  },
  "orig_nbformat": 2,
  "kernelspec": {
   "name": "python385jvsc74a57bd08c1eae21719a0790335dcb83aad72b63b602cfe5cdb2bda0f60bc11d4f154e4b",
   "display_name": "Python 3.8.5 64-bit ('base': conda)"
  }
 },
 "nbformat": 4,
 "nbformat_minor": 2,
 "cells": [
  {
   "source": [
    "#### 1. 씨저 암호 "
   ],
   "cell_type": "markdown",
   "metadata": {}
  },
  {
   "cell_type": "code",
   "execution_count": 6,
   "metadata": {},
   "outputs": [
    {
     "output_type": "stream",
     "name": "stdout",
     "text": [
      "<map object at 0x000001C7E2F26FA0>\n"
     ]
    }
   ],
   "source": [
    "inp = map(int, input('씨저 암호 입력').split())"
   ]
  },
  {
   "source": [
    "#### 2. Unit 24 심사문제 - 1"
   ],
   "cell_type": "markdown",
   "metadata": {}
  },
  {
   "cell_type": "code",
   "execution_count": 9,
   "metadata": {},
   "outputs": [
    {
     "output_type": "stream",
     "name": "stdout",
     "text": [
      "6\n"
     ]
    }
   ],
   "source": [
    "# 입력된 문자열에서 'the'의 개수를 출력하는 프로그램을 만드세요 ('the'만)\n",
    "the_string = input('입력').split()\n",
    "count = 0\n",
    "\n",
    "for i in the_string:\n",
    "    if (i.strip(',.') == 'the'):\n",
    "        count += 1\n",
    "print(count)"
   ]
  },
  {
   "source": [
    "#### 3. Unit 24 심사문제 - 2"
   ],
   "cell_type": "markdown",
   "metadata": {}
  },
  {
   "cell_type": "code",
   "execution_count": 13,
   "metadata": {},
   "outputs": [
    {
     "output_type": "execute_result",
     "data": {
      "text/plain": [
       "[51900, 83000, 158000, 367500, 250000, 59200, 128500, 1304000]"
      ]
     },
     "metadata": {},
     "execution_count": 13
    }
   ],
   "source": [
    "price = list(map(int, input('입력').split(';')))\n",
    "price"
   ]
  },
  {
   "cell_type": "code",
   "execution_count": 20,
   "metadata": {},
   "outputs": [
    {
     "output_type": "execute_result",
     "data": {
      "text/plain": [
       "[1304000, 367500, 250000, 158000, 128500, 83000, 59200, 51900]"
      ]
     },
     "metadata": {},
     "execution_count": 20
    }
   ],
   "source": [
    "sorted_price = sorted(price, reverse=True)\n",
    "sorted_price"
   ]
  },
  {
   "source": [
    "#### 4. Unit 12 심사문제"
   ],
   "cell_type": "markdown",
   "metadata": {}
  },
  {
   "cell_type": "code",
   "execution_count": 57,
   "metadata": {},
   "outputs": [
    {
     "output_type": "execute_result",
     "data": {
      "text/plain": [
       "{'health': 575.6, 'health_regen': 1.7, 'mana': 338.8, 'mana_regen': 1.63}"
      ]
     },
     "metadata": {},
     "execution_count": 57
    }
   ],
   "source": [
    "key = input('키 입력').split()\n",
    "value = map(float, input('값 입력').split())\n",
    "\n",
    "char = dict(zip(key, value))\n",
    "char"
   ]
  },
  {
   "cell_type": "code",
   "execution_count": 58,
   "metadata": {},
   "outputs": [
    {
     "output_type": "execute_result",
     "data": {
      "text/plain": [
       "{'health': 573.6,\n",
       " 'mana': 308.8,\n",
       " 'melee': 600.0,\n",
       " 'attack_speed': 0.625,\n",
       " 'magic_resistance': 35.7}"
      ]
     },
     "metadata": {},
     "execution_count": 58
    }
   ],
   "source": [
    "key2 = input('키 입력').split()\n",
    "value2 = map(float, input('값 입력').split())\n",
    "\n",
    "char2 = dict(zip(key2, value2))\n",
    "char2"
   ]
  },
  {
   "source": [
    "#### 5. Unit 25 심사문제"
   ],
   "cell_type": "markdown",
   "metadata": {}
  },
  {
   "cell_type": "code",
   "execution_count": 82,
   "metadata": {},
   "outputs": [
    {
     "output_type": "execute_result",
     "data": {
      "text/plain": [
       "{'alpha': 10, 'bravo': 20, 'charlie': 30, 'delta': 40}"
      ]
     },
     "metadata": {},
     "execution_count": 82
    }
   ],
   "source": [
    "keys = input('키 입력').split()\n",
    "values = map(int, input('값 입력').split())\n",
    "\n",
    "x = dict(zip(keys, values))\n",
    "x"
   ]
  },
  {
   "cell_type": "code",
   "execution_count": 83,
   "metadata": {},
   "outputs": [
    {
     "output_type": "execute_result",
     "data": {
      "text/plain": [
       "{'alpha': 10, 'bravo': 20}"
      ]
     },
     "metadata": {},
     "execution_count": 83
    }
   ],
   "source": [
    "del x['delta']\n",
    "x.pop('charlie')\n",
    "x"
   ]
  },
  {
   "cell_type": "code",
   "execution_count": 79,
   "metadata": {},
   "outputs": [
    {
     "output_type": "execute_result",
     "data": {
      "text/plain": [
       "{'alpha': 30,\n",
       " 'bravo': 40,\n",
       " 'charlie': 50,\n",
       " 'delta': 60,\n",
       " 'echo': 70,\n",
       " 'foxtrot': 80,\n",
       " 'golf': 90}"
      ]
     },
     "metadata": {},
     "execution_count": 79
    }
   ],
   "source": [
    "keys2 = input('키 입력').split()\n",
    "values2 = map(int, input('값 입력').split())\n",
    "\n",
    "z = dict(zip(keys2, values2))\n",
    "z"
   ]
  },
  {
   "cell_type": "code",
   "execution_count": 81,
   "metadata": {},
   "outputs": [
    {
     "output_type": "execute_result",
     "data": {
      "text/plain": [
       "{'bravo': 40, 'charlie': 50, 'echo': 70, 'foxtrot': 80, 'golf': 90}"
      ]
     },
     "metadata": {},
     "execution_count": 81
    }
   ],
   "source": [
    "del z['delta'], z['alpha']\n",
    "z"
   ]
  }
 ]
}