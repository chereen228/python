{
 "metadata": {
  "language_info": {
   "codemirror_mode": {
    "name": "ipython",
    "version": 3
   },
   "file_extension": ".py",
   "mimetype": "text/x-python",
   "name": "python",
   "nbconvert_exporter": "python",
   "pygments_lexer": "ipython3",
   "version": "3.8.5"
  },
  "orig_nbformat": 2,
  "kernelspec": {
   "name": "python385jvsc74a57bd08c1eae21719a0790335dcb83aad72b63b602cfe5cdb2bda0f60bc11d4f154e4b",
   "display_name": "Python 3.8.5 64-bit ('base': conda)"
  }
 },
 "nbformat": 4,
 "nbformat_minor": 2,
 "cells": [
  {
   "source": [
    "# 예외 처리"
   ],
   "cell_type": "markdown",
   "metadata": {}
  },
  {
   "source": [
    "### 1. try - except"
   ],
   "cell_type": "markdown",
   "metadata": {}
  },
  {
   "cell_type": "code",
   "execution_count": 1,
   "metadata": {},
   "outputs": [
    {
     "output_type": "error",
     "ename": "ZeroDivisionError",
     "evalue": "division by zero",
     "traceback": [
      "\u001b[1;31m---------------------------------------------------------------------------\u001b[0m",
      "\u001b[1;31mZeroDivisionError\u001b[0m                         Traceback (most recent call last)",
      "\u001b[1;32m<ipython-input-1-cd759d3fcf39>\u001b[0m in \u001b[0;36m<module>\u001b[1;34m\u001b[0m\n\u001b[1;32m----> 1\u001b[1;33m \u001b[1;36m10\u001b[0m \u001b[1;33m/\u001b[0m \u001b[1;36m0\u001b[0m\u001b[1;33m\u001b[0m\u001b[1;33m\u001b[0m\u001b[0m\n\u001b[0m",
      "\u001b[1;31mZeroDivisionError\u001b[0m: division by zero"
     ]
    }
   ],
   "source": [
    "10 / 0"
   ]
  },
  {
   "cell_type": "code",
   "execution_count": 2,
   "metadata": {},
   "outputs": [
    {
     "output_type": "error",
     "ename": "ZeroDivisionError",
     "evalue": "division by zero",
     "traceback": [
      "\u001b[1;31m---------------------------------------------------------------------------\u001b[0m",
      "\u001b[1;31mZeroDivisionError\u001b[0m                         Traceback (most recent call last)",
      "\u001b[1;32m<ipython-input-2-4653d3c66197>\u001b[0m in \u001b[0;36m<module>\u001b[1;34m\u001b[0m\n\u001b[0;32m      1\u001b[0m \u001b[1;32mfor\u001b[0m \u001b[0mi\u001b[0m \u001b[1;32min\u001b[0m \u001b[0mrange\u001b[0m\u001b[1;33m(\u001b[0m\u001b[1;36m5\u001b[0m\u001b[1;33m)\u001b[0m\u001b[1;33m:\u001b[0m\u001b[1;33m\u001b[0m\u001b[1;33m\u001b[0m\u001b[0m\n\u001b[1;32m----> 2\u001b[1;33m     \u001b[0mprint\u001b[0m\u001b[1;33m(\u001b[0m\u001b[1;36m5\u001b[0m \u001b[1;33m/\u001b[0m \u001b[0mi\u001b[0m\u001b[1;33m)\u001b[0m\u001b[1;33m\u001b[0m\u001b[1;33m\u001b[0m\u001b[0m\n\u001b[0m",
      "\u001b[1;31mZeroDivisionError\u001b[0m: division by zero"
     ]
    }
   ],
   "source": [
    "for i in range(5):\n",
    "    print(5 / i)"
   ]
  },
  {
   "cell_type": "code",
   "execution_count": 3,
   "metadata": {},
   "outputs": [
    {
     "output_type": "stream",
     "name": "stdout",
     "text": [
      "0으로 나누지 마세요!!!\n5.0\n2.5\n1.6666666666666667\n1.25\n"
     ]
    }
   ],
   "source": [
    "for i in range(5):\n",
    "    try:\n",
    "        print(5 / i)\n",
    "    except ZeroDivisionError:\n",
    "        print('0으로 나누지 마세요!!!')"
   ]
  },
  {
   "cell_type": "code",
   "execution_count": 4,
   "metadata": {},
   "outputs": [
    {
     "output_type": "stream",
     "name": "stdout",
     "text": [
      "division by zero\n0으로 나누지 마세요!!!\n5.0\n2.5\n1.6666666666666667\n1.25\n"
     ]
    }
   ],
   "source": [
    "for i in range(5):\n",
    "    try:\n",
    "        print(5 / i)\n",
    "    except ZeroDivisionError as e:\n",
    "        print(e)\n",
    "        print('0으로 나누지 마세요!!!')"
   ]
  },
  {
   "cell_type": "code",
   "execution_count": 6,
   "metadata": {},
   "outputs": [
    {
     "output_type": "stream",
     "name": "stdout",
     "text": [
      "division by zero\n1.0\n1.0\n1.0\nlist index out of range\n"
     ]
    }
   ],
   "source": [
    "a = [0, 1, 2, 3]\n",
    "for i in range(5):\n",
    "    try:\n",
    "        print(a[i] / i)\n",
    "    except ZeroDivisionError as e:\n",
    "        print(e)\n",
    "    except IndexError as e:\n",
    "        print(e)"
   ]
  },
  {
   "cell_type": "code",
   "execution_count": 5,
   "metadata": {},
   "outputs": [
    {
     "output_type": "stream",
     "name": "stdout",
     "text": [
      "division by zero\n1.0\n1.0\n1.0\nlist index out of range\n"
     ]
    }
   ],
   "source": [
    "# Exception 은 모든 예외/에러의 조상\n",
    "a = [0, 1, 2, 3]\n",
    "for i in range(5):\n",
    "    try:\n",
    "        print(a[i] / i)\n",
    "    except Exception as e:\n",
    "        print(e)"
   ]
  },
  {
   "source": [
    "### 2. try - except - else"
   ],
   "cell_type": "markdown",
   "metadata": {}
  },
  {
   "cell_type": "code",
   "execution_count": 7,
   "metadata": {},
   "outputs": [
    {
     "output_type": "stream",
     "name": "stdout",
     "text": [
      "division by zero\n1.0 - 에러가 발생하지 않았음\n1.0 - 에러가 발생하지 않았음\n1.0 - 에러가 발생하지 않았음\nlist index out of range\n"
     ]
    }
   ],
   "source": [
    "for i in range(5):\n",
    "    try:\n",
    "        b = a[i] / i\n",
    "    except Exception as e:\n",
    "        print(e)\n",
    "    else:\n",
    "        print(f'{b} - 에러가 발생하지 않았음')"
   ]
  },
  {
   "source": [
    "### 3. try - except - finally"
   ],
   "cell_type": "markdown",
   "metadata": {}
  },
  {
   "cell_type": "code",
   "execution_count": 11,
   "metadata": {},
   "outputs": [
    {
     "output_type": "stream",
     "name": "stdout",
     "text": [
      "1.0\n1.0\n1.0\nlist index out of range\n종료\n"
     ]
    }
   ],
   "source": [
    "try:\n",
    "    for i in range(1, 5):\n",
    "        print(a[i] / i)\n",
    "except Exception as e:\n",
    "    print(e)\n",
    "finally:\n",
    "    print('종료')"
   ]
  },
  {
   "source": [
    "### Unit 23 심사문제 - 지뢰 찾기"
   ],
   "cell_type": "markdown",
   "metadata": {}
  },
  {
   "cell_type": "code",
   "execution_count": null,
   "metadata": {},
   "outputs": [],
   "source": [
    "# 표준 입력으로 2차원 리스트의 가로(col)와 세로(row)가 입력되고 그 다음 줄부터 리스트의 요소로 들어갈 문자가 입력됩니다. 이때 2차원 리스트 안에서 *는 지뢰이고 .은 지뢰가 아닙니다. 지뢰가 아닌 요소에는 인접한 지뢰의 개수를 출력하는 프로그램을 만드세요(input에서 안내 문자열은 출력하지 않아야 합니다).\n",
    "#여러 줄을 입력 받으려면 다음과 같이 for 반복문에서 input을 호출한 뒤 append로 각 줄을 추가하면 됩니다(list 안에 문자열을 넣으면 문자열이 문자 리스트로 변환됩니다).\n",
    "\n",
    "# 3 3  .**  *..  .*.\n",
    "# 5 5  ..*..  ...*.  .*...  .***.  *.*.."
   ]
  },
  {
   "cell_type": "code",
   "execution_count": 39,
   "metadata": {},
   "outputs": [
    {
     "output_type": "stream",
     "name": "stdout",
     "text": [
      "\n01*21\n123*1\n2*532\n3***1\n*4*31\n"
     ]
    }
   ],
   "source": [
    "col, row = map(int, input().split())\n",
    "matrix = []\n",
    "for i in range(col):\n",
    "    matrix.append(list(input()))\n",
    "print()\n",
    "for i in range(col):\n",
    "    for k in range(row):\n",
    "        cnt = 0\n",
    "        if matrix[i][k] == \".\":\n",
    "            for x in range(i-1, i+2):\n",
    "                for y in range(k-1, k+2):\n",
    "                    if not (y < 0 or x < 0 or y >= row or x >= col):  # 인덱스를 벗어나지 않도록\n",
    "                        if matrix[x][y] == \"*\":\n",
    "                            cnt += 1\n",
    "            matrix[i][k] = cnt\n",
    "            print(matrix[i][k], end=\"\")\n",
    "        else:\n",
    "            print(matrix[i][k], end=\"\")    \n",
    "    print()"
   ]
  }
 ]
}