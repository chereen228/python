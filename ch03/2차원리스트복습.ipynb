{
 "metadata": {
  "language_info": {
   "codemirror_mode": {
    "name": "ipython",
    "version": 3
   },
   "file_extension": ".py",
   "mimetype": "text/x-python",
   "name": "python",
   "nbconvert_exporter": "python",
   "pygments_lexer": "ipython3",
   "version": "3.8.5"
  },
  "orig_nbformat": 2,
  "kernelspec": {
   "name": "python385jvsc74a57bd08c1eae21719a0790335dcb83aad72b63b602cfe5cdb2bda0f60bc11d4f154e4b",
   "display_name": "Python 3.8.5 64-bit ('base': conda)"
  }
 },
 "nbformat": 4,
 "nbformat_minor": 2,
 "cells": [
  {
   "cell_type": "code",
   "execution_count": 1,
   "metadata": {},
   "outputs": [
    {
     "output_type": "execute_result",
     "data": {
      "text/plain": [
       "[[10, 20], [30, 40], [50, 60]]"
      ]
     },
     "metadata": {},
     "execution_count": 1
    }
   ],
   "source": [
    "a = [[10, 20], [30, 40], [50, 60]]\n",
    "a"
   ]
  },
  {
   "cell_type": "code",
   "execution_count": 3,
   "metadata": {},
   "outputs": [
    {
     "output_type": "execute_result",
     "data": {
      "text/plain": [
       "60"
      ]
     },
     "metadata": {},
     "execution_count": 3
    }
   ],
   "source": [
    "a[2][1]"
   ]
  },
  {
   "cell_type": "code",
   "execution_count": 4,
   "metadata": {},
   "outputs": [
    {
     "output_type": "execute_result",
     "data": {
      "text/plain": [
       "[[10, 1000], [30, 40], [50, 60]]"
      ]
     },
     "metadata": {},
     "execution_count": 4
    }
   ],
   "source": [
    "a[0][1] = 1000\n",
    "a"
   ]
  },
  {
   "cell_type": "code",
   "execution_count": 6,
   "metadata": {},
   "outputs": [
    {
     "output_type": "execute_result",
     "data": {
      "text/plain": [
       "[[10, 20], [500, 600, 700], [9], [30, 40], [8], [800, 900, 1000]]"
      ]
     },
     "metadata": {},
     "execution_count": 6
    }
   ],
   "source": [
    "# 행의 개수가 각기 다른 톱니형 리스트도 생성 가능\n",
    "a = [[10, 20],\n",
    "     [500, 600, 700],\n",
    "     [9],\n",
    "     [30, 40],\n",
    "     [8],\n",
    "     [800, 900, 1000]]\n",
    "\n",
    "a"
   ]
  },
  {
   "source": [
    "- .append([])"
   ],
   "cell_type": "markdown",
   "metadata": {}
  },
  {
   "cell_type": "code",
   "execution_count": 7,
   "metadata": {},
   "outputs": [
    {
     "output_type": "execute_result",
     "data": {
      "text/plain": [
       "[[10, 20], [500, 600, 700]]"
      ]
     },
     "metadata": {},
     "execution_count": 7
    }
   ],
   "source": [
    "a = []\n",
    "a.append([])     #2차원 리스트 생성\n",
    "a[0].append(10)\n",
    "a[0].append(20)\n",
    "a.append([])\n",
    "a[1].append(500)\n",
    "a[1].append(600)\n",
    "a[1].append(700)\n",
    "\n",
    "a"
   ]
  },
  {
   "cell_type": "code",
   "execution_count": 8,
   "metadata": {},
   "outputs": [
    {
     "output_type": "stream",
     "name": "stdout",
     "text": [
      "10 20\n30 40\n50 60\n"
     ]
    }
   ],
   "source": [
    "# 반복문 / 2차원 리스트\n",
    "a = [[10, 20], [30, 40], [50, 60]]\n",
    "for x, y in a:\n",
    "    print(x, y)"
   ]
  },
  {
   "source": [
    "- print / end"
   ],
   "cell_type": "markdown",
   "metadata": {}
  },
  {
   "cell_type": "code",
   "execution_count": 9,
   "metadata": {},
   "outputs": [
    {
     "output_type": "stream",
     "name": "stdout",
     "text": [
      "123\n"
     ]
    }
   ],
   "source": [
    "# end에 빈 문자열을 지정하면 다음번 출력이 바로 뒤에 오게 됨\n",
    "print(1, end='')\n",
    "print(2, end='')\n",
    "print(3)"
   ]
  },
  {
   "source": [
    "- indentation"
   ],
   "cell_type": "markdown",
   "metadata": {}
  },
  {
   "cell_type": "code",
   "execution_count": 13,
   "metadata": {},
   "outputs": [
    {
     "output_type": "stream",
     "name": "stdout",
     "text": [
      "10 20 \n30 40 \n50 60 \n"
     ]
    }
   ],
   "source": [
    "for i in a:\n",
    "    for j in i:\n",
    "        print(j, end=' ')\n",
    "    print()  # in a를 기준으로 프린트 / a의 요소는 [10, 20], [30, 40], [50, 60] "
   ]
  },
  {
   "cell_type": "code",
   "execution_count": 14,
   "metadata": {},
   "outputs": [
    {
     "output_type": "stream",
     "name": "stdout",
     "text": [
      "10 20 30 40 50 60 \n"
     ]
    }
   ],
   "source": [
    "for i in a:\n",
    "    for j in i:\n",
    "        print(j, end=' ')\n",
    "print()   # 독립되어 프린트 / 모든 요소들을 풀어 출력"
   ]
  },
  {
   "cell_type": "code",
   "execution_count": 15,
   "metadata": {},
   "outputs": [
    {
     "output_type": "stream",
     "name": "stdout",
     "text": [
      "10 \n20 \n30 \n40 \n50 \n60 \n"
     ]
    }
   ],
   "source": [
    "for i in a:\n",
    "    for j in i:\n",
    "        print(j, end=' ')\n",
    "        print()  # in i를 기준으로 프린트"
   ]
  },
  {
   "cell_type": "code",
   "execution_count": 20,
   "metadata": {},
   "outputs": [
    {
     "output_type": "stream",
     "name": "stdout",
     "text": [
      "10 20 \n30 40 \n50 60 \n"
     ]
    }
   ],
   "source": [
    "# 요소에 접근할 때는: 리스트[세로 인덱스][가로 인덱스]\n",
    "\n",
    "a = [[10, 20], [30, 40], [50, 60]]\n",
    "\n",
    "for i in range(len(a)):         # 세로 크기: 3 / range(0, 1, 2)\n",
    "    for j in range(len(a[i])):  # 가로 크기: 2 / range(0, 1)\n",
    "        print(a[i][j], end=' ')\n",
    "    print()"
   ]
  },
  {
   "source": [
    "- while 반복문으로 리스트 요소 출력"
   ],
   "cell_type": "markdown",
   "metadata": {}
  },
  {
   "cell_type": "code",
   "execution_count": 24,
   "metadata": {},
   "outputs": [
    {
     "output_type": "stream",
     "name": "stdout",
     "text": [
      "10 20\n30 40\n50 60\n"
     ]
    }
   ],
   "source": [
    "# while 반복문을 한 번 사용하기\n",
    "a = [[10, 20], [30, 40], [50, 60]]\n",
    "\n",
    "i = 0\n",
    "while i < len(a):\n",
    "    x, y = a[i]\n",
    "    print(x, y)\n",
    "\n",
    "    i += 1"
   ]
  },
  {
   "cell_type": "code",
   "execution_count": 30,
   "metadata": {},
   "outputs": [
    {
     "output_type": "stream",
     "name": "stdout",
     "text": [
      "10 20 \n30 40 \n50 60 \n"
     ]
    }
   ],
   "source": [
    "# while 반복문을 두 번 사용하기\n",
    "\n",
    "i = 0\n",
    "while i < len(a):         # 세로 크기\n",
    "    j = 0\n",
    "    while j < len(a[i]):  # 가로 크기(안쪽 리스트의 요소 개수)\n",
    "        print(a[i][j], end=' ')\n",
    "        j += 1\n",
    "    print()               # while i 기준으로 프린트\n",
    "    i += 1"
   ]
  },
  {
   "source": [
    "- 반복문으로 리스트 만들기"
   ],
   "cell_type": "markdown",
   "metadata": {}
  },
  {
   "cell_type": "code",
   "execution_count": 32,
   "metadata": {},
   "outputs": [
    {
     "output_type": "execute_result",
     "data": {
      "text/plain": [
       "[0, 0, 0, 0, 0, 0, 0, 0, 0, 0]"
      ]
     },
     "metadata": {},
     "execution_count": 32
    }
   ],
   "source": [
    "a = []           # 빈 리스트 생성\n",
    "\n",
    "for i in range(10):\n",
    "    a.append(0)  # append로 요소 추가\n",
    "a"
   ]
  },
  {
   "cell_type": "code",
   "execution_count": 34,
   "metadata": {},
   "outputs": [
    {
     "output_type": "stream",
     "name": "stdout",
     "text": [
      "[[0, 0], [0, 0], [0, 0]]\n"
     ]
    }
   ],
   "source": [
    "a = []    # 빈 리스트 생성\n",
    "\n",
    "for i in range(3):\n",
    "    line = []             # 안쪽 리스트로 사용할 빈 리스트 생성\n",
    "    for j in range(2):\n",
    "        line.append(0)    # 안쪽 리스트에 0 추가\n",
    "    a.append(line)        # 전체 리스트에 안쪽 리스트를 추가\n",
    "print(a)"
   ]
  },
  {
   "cell_type": "code",
   "execution_count": 36,
   "metadata": {},
   "outputs": [
    {
     "output_type": "execute_result",
     "data": {
      "text/plain": [
       "[[0, 0], [0, 0], [0, 0]]"
      ]
     },
     "metadata": {},
     "execution_count": 36
    }
   ],
   "source": [
    "[[0 for j in range(2)] for i in range(3)]"
   ]
  },
  {
   "cell_type": "code",
   "execution_count": 38,
   "metadata": {},
   "outputs": [
    {
     "output_type": "execute_result",
     "data": {
      "text/plain": [
       "[[0, 0], [0, 0], [0, 0]]"
      ]
     },
     "metadata": {},
     "execution_count": 38
    }
   ],
   "source": [
    "a = [[0]*2 for i in range(3)]\n",
    "a"
   ]
  },
  {
   "cell_type": "code",
   "execution_count": 42,
   "metadata": {},
   "outputs": [
    {
     "output_type": "stream",
     "name": "stdout",
     "text": [
      "[[0, 0, 0], [0], [0, 0, 0], [0, 0], [0, 0, 0, 0, 0]]\n"
     ]
    }
   ],
   "source": [
    "a = [3, 1, 3, 2, 5]\n",
    "b = []\n",
    "\n",
    "for i in a:\n",
    "    line = []\n",
    "    for j in range(i):\n",
    "        line.append(0)\n",
    "    b.append(line)\n",
    "\n",
    "print(b)"
   ]
  },
  {
   "cell_type": "code",
   "execution_count": 43,
   "metadata": {},
   "outputs": [
    {
     "output_type": "execute_result",
     "data": {
      "text/plain": [
       "[[0, 0, 0], [0], [0, 0, 0], [0, 0], [0, 0, 0, 0, 0]]"
      ]
     },
     "metadata": {},
     "execution_count": 43
    }
   ],
   "source": [
    "a = [[0] * i for i in [3, 1, 3, 2, 5]]\n",
    "a"
   ]
  }
 ]
}